{
 "cells": [
  {
   "cell_type": "code",
   "execution_count": 1,
   "metadata": {},
   "outputs": [],
   "source": [
    "import os\n",
    "import cv2\n",
    "import numpy as np\n",
    "import pandas as pd\n",
    "import datetime\n",
    "from skimage.feature import local_binary_pattern, hog\n",
    "from skimage import color\n",
    "from sklearn.model_selection import train_test_split\n",
    "from sklearn.metrics import accuracy_score\n",
    "import torch\n",
    "import torch.nn as nn\n",
    "import torchvision.models as models\n",
    "import torchvision.transforms as transforms\n",
    "from PIL import Image\n",
    "from hog_extractor import extract_hog_features\n",
    "from lbp_extractor import extract_lbp_features\n",
    "from cnn_extractor import load_pretrained_model, extract_cnn_features\n",
    "import pickle"
   ]
  },
  {
   "cell_type": "markdown",
   "metadata": {},
   "source": [
    "Importing Dataset\n"
   ]
  },
  {
   "cell_type": "code",
   "execution_count": 2,
   "metadata": {},
   "outputs": [
    {
     "name": "stdout",
     "output_type": "stream",
     "text": [
      "Loaded 16936 images for 50 persons.\n"
     ]
    }
   ],
   "source": [
    "def load_dataset(dataset_path):\n",
    "    images = []\n",
    "    labels = []\n",
    "    # Each subdirectory is a class corresponding to a person\n",
    "    for person in os.listdir(dataset_path):\n",
    "        person_path = os.path.join(dataset_path, person)\n",
    "        if os.path.isdir(person_path):\n",
    "            # Only consider JPG images\n",
    "            for file in os.listdir(person_path):\n",
    "                if file.lower().endswith(\".jpg\"):\n",
    "                    img_path = os.path.join(person_path, file)\n",
    "                    img = cv2.imread(img_path)\n",
    "                    if img is not None:\n",
    "                        # Resize image to a fixed size\n",
    "                        img = cv2.resize(img, (128, 128))  # Resize to 128x128\n",
    "                        if len(img.shape) == 2:  # If grayscale, convert to 3 channels\n",
    "                            img = cv2.cvtColor(img, cv2.COLOR_GRAY2BGR)\n",
    "\n",
    "                        images.append(img)\n",
    "                        labels.append(person)\n",
    "    return images, labels\n",
    "\n",
    "\n",
    "dataset_path = 'VGG2_Dataset'\n",
    "images, labels = load_dataset(dataset_path)\n",
    "print(f\"Loaded {len(images)} images for {len(set(labels))} persons.\")\n"
   ]
  },
  {
   "cell_type": "code",
   "execution_count": 6,
   "metadata": {},
   "outputs": [
    {
     "name": "stdout",
     "output_type": "stream",
     "text": [
      "Number of images: 16936\n",
      "Number of labels: 16936\n",
      "size of images: (128, 128, 3)\n"
     ]
    }
   ],
   "source": [
    "print(\"Number of images:\",len(images))\n",
    "print(\"Number of labels:\", len(labels))\n",
    "print(\"size of images:\", images[0].shape)"
   ]
  },
  {
   "cell_type": "markdown",
   "metadata": {},
   "source": [
    "Face Detection and Cropping (For Avoiding Background Noise)"
   ]
  },
  {
   "cell_type": "code",
   "execution_count": null,
   "metadata": {},
   "outputs": [],
   "source": [
    "import os\n",
    "import cv2\n",
    "import matplotlib.pyplot as plt\n",
    "\n",
    "def detect_and_crop_face(image, cascade_path='haarcascade_frontalface_default.xml'):\n",
    "    \"\"\"\n",
    "    Detects faces in an image using Haar cascades and returns the cropped face region.\n",
    "    \n",
    "    Parameters:\n",
    "    - image: Input image in BGR format.\n",
    "    - cascade_path: Name of the Haar cascade XML file (default is for frontal face detection).\n",
    "    \n",
    "    Returns:\n",
    "    - face_roi: Cropped face region if a face is detected; otherwise, returns None.\n",
    "    - faces: List of detected face bounding boxes.\n",
    "    \"\"\"\n",
    "    # Convert image to grayscale for detection\n",
    "    gray = cv2.cvtColor(image, cv2.COLOR_BGR2GRAY)\n",
    "    face_cascade = cv2.CascadeClassifier(cv2.data.haarcascades + cascade_path)\n",
    "    \n",
    "    # Detect faces (tweak scaleFactor, minNeighbors, minSize as needed)\n",
    "    faces = face_cascade.detectMultiScale(gray, scaleFactor=1.1, minNeighbors=5, minSize=(30, 30))\n",
    "    \n",
    "    if len(faces) == 0:\n",
    "        return None, faces\n",
    "\n",
    "    # Option: Choose the largest detected face\n",
    "    (x, y, w, h) = sorted(faces, key=lambda b: b[2] * b[3], reverse=True)[0]\n",
    "    face_roi = image[y:y+h, x:x+w]\n",
    "    face_resized = cv2.resize(face_roi, (128, 128))\n",
    "    return face_resized, faces\n",
    "\n",
    "def load_dataset_with_face_detection(dataset_path):\n",
    "    \"\"\"\n",
    "    Loads images from a dataset folder with one subfolder per person, applies face detection and cropping,\n",
    "    and returns lists of cropped face images and corresponding labels.\n",
    "    \n",
    "    Parameters:\n",
    "    - dataset_path: Path to the main dataset folder.\n",
    "    \n",
    "    Returns:\n",
    "    - cropped_images: List of cropped face images.\n",
    "    - labels: List of labels corresponding to each image.\n",
    "    \"\"\"\n",
    "    cropped_images = []\n",
    "    labels = []\n",
    "    \n",
    "    # Iterate over each person's folder\n",
    "    for person in os.listdir(dataset_path):\n",
    "        person_path = os.path.join(dataset_path, person)\n",
    "        if os.path.isdir(person_path):\n",
    "            # Process only .jpg files\n",
    "            for file in os.listdir(person_path):\n",
    "                if file.lower().endswith('.jpg'):\n",
    "                    img_path = os.path.join(person_path, file)\n",
    "                    image = cv2.imread(img_path)\n",
    "                    if image is None:\n",
    "                        continue\n",
    "                    # Apply face detection and crop the face\n",
    "                    face, _ = detect_and_crop_face(image)\n",
    "                    if face is not None:\n",
    "                        cropped_images.append(face)\n",
    "                        labels.append(person)\n",
    "                    else:\n",
    "                        print(f\"No face detected in image: {img_path}\")\n",
    "    \n",
    "    return cropped_images, labels\n",
    "\n",
    "def display_images(images, labels, num_samples=5):\n",
    "    \"\"\"\n",
    "    Displays a few sample images with their labels in a Jupyter Notebook using Matplotlib.\n",
    "    \n",
    "    Parameters:\n",
    "    - images: List of images in BGR format.\n",
    "    - labels: Corresponding labels.\n",
    "    - num_samples: Number of samples to display.\n",
    "    \"\"\"\n",
    "    num_samples = min(num_samples, len(images))\n",
    "    plt.figure(figsize=(15, 5))\n",
    "    for i in range(num_samples):\n",
    "        img = images[i]\n",
    "        label = labels[i]\n",
    "        # Convert from BGR to RGB for correct color display\n",
    "        img_rgb = cv2.cvtColor(img, cv2.COLOR_BGR2RGB)\n",
    "        plt.subplot(1, num_samples, i+1)\n",
    "        plt.imshow(img_rgb)\n",
    "        plt.title(label)\n",
    "        plt.axis('off')\n",
    "    plt.show()\n",
    "\n",
    "# Example usage in a Jupyter Notebook:\n",
    "dataset_path = 'VGG2_Dataset'  # Update with your dataset location\n",
    "images, labels = load_dataset_with_face_detection(dataset_path)\n",
    "print(f\"Loaded {len(images)} cropped face images for {len(set(labels))} persons.\")\n",
    "\n",
    "# Display a few sample images inline\n",
    "display_images(images, labels, num_samples=5)\n"
   ]
  },
  {
   "cell_type": "code",
   "execution_count": 2,
   "metadata": {},
   "outputs": [
    {
     "name": "stdout",
     "output_type": "stream",
     "text": [
      "Loaded 13550 cropped face images for 50 persons from pickle file.\n"
     ]
    }
   ],
   "source": [
    "# Path to pickle file\n",
    "\n",
    "pickle_file = 'cropped_faces.pkl'\n",
    "\n",
    "# Check if pickle file exists\n",
    "if os.path.exists(pickle_file):\n",
    "    # Load data from pickle file\n",
    "    with open(pickle_file, 'rb') as f:\n",
    "        images, labels = pickle.load(f)\n",
    "    print(f\"Loaded {len(images)} cropped face images for {len(set(labels))} persons from pickle file.\")\n",
    "else:\n",
    "    # Load dataset with face detection and save to pickle file\n",
    "    images, labels = load_dataset_with_face_detection(dataset_path)\n",
    "    with open(pickle_file, 'wb') as f:\n",
    "        pickle.dump((images, labels), f)\n",
    "    print(f\"Loaded {len(images)} cropped face images for {len(set(labels))} persons and saved to pickle file.\")"
   ]
  },
  {
   "cell_type": "code",
   "execution_count": 10,
   "metadata": {},
   "outputs": [
    {
     "name": "stdout",
     "output_type": "stream",
     "text": [
      "(128, 128, 3)\n",
      "[[[ 10  29  79]\n",
      "  [ 16  32  79]\n",
      "  [ 26  38  81]\n",
      "  ...\n",
      "  [225 223 226]\n",
      "  [241 240 242]\n",
      "  [245 245 245]]\n",
      "\n",
      " [[ 10  30  81]\n",
      "  [ 24  40  87]\n",
      "  [ 19  29  73]\n",
      "  ...\n",
      "  [213 212 215]\n",
      "  [227 226 228]\n",
      "  [229 229 229]]\n",
      "\n",
      " [[ 24  40  82]\n",
      "  [ 20  33  78]\n",
      "  [ 16  26  73]\n",
      "  ...\n",
      "  [205 205 212]\n",
      "  [217 215 218]\n",
      "  [224 219 219]]\n",
      "\n",
      " ...\n",
      "\n",
      " [[ 22  26  55]\n",
      "  [ 20  22  46]\n",
      "  [ 16  15  35]\n",
      "  ...\n",
      "  [242 242 242]\n",
      "  [241 241 241]\n",
      "  [244 242 242]]\n",
      "\n",
      " [[  7  12  40]\n",
      "  [ 20  23  47]\n",
      "  [ 23  22  41]\n",
      "  ...\n",
      "  [239 239 239]\n",
      "  [240 240 240]\n",
      "  [247 245 245]]\n",
      "\n",
      " [[ 14  16  39]\n",
      "  [ 22  23  45]\n",
      "  [ 16  17  37]\n",
      "  ...\n",
      "  [235 234 238]\n",
      "  [242 241 245]\n",
      "  [248 245 247]]]\n",
      "[[[ 25  49 149]\n",
      "  [ 13  36 137]\n",
      "  [ 21  43 145]\n",
      "  ...\n",
      "  [120 169 159]\n",
      "  [113 163 149]\n",
      "  [117 167 149]]\n",
      "\n",
      " [[ 28  50 150]\n",
      "  [  2  25 125]\n",
      "  [ 22  45 146]\n",
      "  ...\n",
      "  [121 172 165]\n",
      "  [112 165 152]\n",
      "  [109 162 145]]\n",
      "\n",
      " [[ 20  39 137]\n",
      "  [  9  33 128]\n",
      "  [ 30  55 149]\n",
      "  ...\n",
      "  [127 176 175]\n",
      "  [112 166 156]\n",
      "  [106 161 143]]\n",
      "\n",
      " ...\n",
      "\n",
      " [[ 10  29 108]\n",
      "  [ 22  39 119]\n",
      "  [ 17  34 112]\n",
      "  ...\n",
      "  [ 22  88 180]\n",
      "  [ 25  97 184]\n",
      "  [ 58 134 216]]\n",
      "\n",
      " [[ 17  36 114]\n",
      "  [ 21  38 117]\n",
      "  [ 17  34 113]\n",
      "  ...\n",
      "  [ 15  80 174]\n",
      "  [  2  69 160]\n",
      "  [ 33 105 193]]\n",
      "\n",
      " [[ 14  33 111]\n",
      "  [ 20  37 116]\n",
      "  [ 11  28 107]\n",
      "  ...\n",
      "  [  8  70 166]\n",
      "  [ 10  78 173]\n",
      "  [ 18  88 180]]]\n",
      "n000002\n",
      "n000002\n"
     ]
    }
   ],
   "source": [
    "print(images[0].shape)\n",
    "print(images[0])\n",
    "print(images[1])\n",
    "print(labels[0])\n",
    "print(labels[1])"
   ]
  },
  {
   "cell_type": "markdown",
   "metadata": {},
   "source": [
    "Extracting features from all images"
   ]
  },
  {
   "cell_type": "code",
   "execution_count": 5,
   "metadata": {},
   "outputs": [],
   "source": [
    "def extract_all_features(images):\n",
    "    \"\"\"\n",
    "    images: NumPy array of shape (n_samples, 128, 128, 3)\n",
    "    Returns: combined features of shape (n_samples, combined_feature_length)\n",
    "    \"\"\"\n",
    "    all_features = []\n",
    "    for idx, img in enumerate(images):\n",
    "        # Extract features from each image\n",
    "        # pixel_feat = img.flatten()\n",
    "        hog_feat = extract_hog_features(img)\n",
    "        bnp_feat = extract_lbp_features(img)\n",
    "        cnn_feat = extract_cnn_features(img, model, device)\n",
    "        \n",
    "        # Concatenate all features into one vector\n",
    "        # combined = np.concatenate([pixel_feat, hog_feat, bnp_feat])\n",
    "\n",
    "        \n",
    "        # Without pixel features\n",
    "        combined = np.concatenate([cnn_feat,hog_feat, bnp_feat])\n",
    "        all_features.append(combined)\n",
    "    return np.array(all_features)"
   ]
  },
  {
   "cell_type": "code",
   "execution_count": null,
   "metadata": {},
   "outputs": [
    {
     "name": "stdout",
     "output_type": "stream",
     "text": [
      "Features shape: (13550, 8622)\n"
     ]
    }
   ],
   "source": [
    "all_features=extract_all_features(images)\n",
    "print(\"Features shape:\", all_features.shape)"
   ]
  },
  {
   "cell_type": "markdown",
   "metadata": {},
   "source": [
    "Creating Dataframe "
   ]
  },
  {
   "cell_type": "code",
   "execution_count": 11,
   "metadata": {},
   "outputs": [
    {
     "name": "stdout",
     "output_type": "stream",
     "text": [
      "DataFrame shape: (13550, 8623)\n",
      "   feature_0  feature_1  feature_2  feature_3  feature_4  feature_5  \\\n",
      "0   0.802903   0.290001   0.128858   0.000000   0.238688   0.237688   \n",
      "1   1.116099   0.469367   0.052496   0.104782   0.184281   0.381988   \n",
      "2   1.276211   0.209088   0.306192   0.013604   0.324656   0.243034   \n",
      "3   0.807911   0.954105   0.029814   0.221272   0.053398   0.002023   \n",
      "4   1.680442   0.082433   0.103465   0.235430   0.131407   0.028644   \n",
      "\n",
      "   feature_6  feature_7  feature_8  feature_9  ...  feature_8613  \\\n",
      "0   0.132865   0.250270   0.483003   0.347225  ...      0.057983   \n",
      "1   0.333514   0.204869   0.544707   0.599683  ...      0.051758   \n",
      "2   0.313175   0.119498   0.833808   0.340460  ...      0.088074   \n",
      "3   0.216498   0.133190   0.171440   0.491627  ...      0.042786   \n",
      "4   0.763736   0.256519   0.166368   1.115368  ...      0.031067   \n",
      "\n",
      "   feature_8614  feature_8615  feature_8616  feature_8617  feature_8618  \\\n",
      "0      0.047729      0.135986      0.299744      0.156860      0.052307   \n",
      "1      0.044495      0.127136      0.328857      0.168274      0.061218   \n",
      "2      0.053223      0.088501      0.138977      0.098267      0.060608   \n",
      "3      0.031494      0.115662      0.269043      0.162231      0.048035   \n",
      "4      0.032654      0.144348      0.384216      0.215332      0.068420   \n",
      "\n",
      "   feature_8619  feature_8620  feature_8621    label  \n",
      "0      0.060120      0.057190      0.091553  n000002  \n",
      "1      0.056641      0.051636      0.076294  n000002  \n",
      "2      0.088257      0.111877      0.173340  n000002  \n",
      "3      0.053467      0.189880      0.063049  n000002  \n",
      "4      0.034424      0.039246      0.040833  n000002  \n",
      "\n",
      "[5 rows x 8623 columns]\n"
     ]
    }
   ],
   "source": [
    "import pandas as pd\n",
    "\n",
    "df = pd.DataFrame(all_features)\n",
    "\n",
    "# Generate column names for features\n",
    "df.columns = [f'feature_{i}' for i in range(all_features.shape[1])]\n",
    "\n",
    "# Add the labels column\n",
    "df['label'] = labels  # Ensure 'labels' has the same length as features\n",
    "\n",
    "# Display the shape to confirm\n",
    "print(\"DataFrame shape:\", df.shape)\n",
    "\n",
    "# Show first few rows\n",
    "print(df.head())\n"
   ]
  },
  {
   "cell_type": "markdown",
   "metadata": {},
   "source": [
    "OneHotEncoding for labels\n"
   ]
  },
  {
   "cell_type": "code",
   "execution_count": 18,
   "metadata": {},
   "outputs": [],
   "source": [
    "# from sklearn.preprocessing import OneHotEncoder\n",
    "\n",
    "# # Apply One-Hot Encoding\n",
    "# one_hot_encoder = OneHotEncoder(sparse_output=False) \n",
    "# encoded_labels = one_hot_encoder.fit_transform(df[['label']])  # Convert labels to one-hot encoding\n",
    "\n",
    "# # Convert to DataFrame with proper column names\n",
    "# label_columns = [f'label_{i}' for i in range(encoded_labels.shape[1])]\n",
    "\n",
    "# df_encoded = pd.DataFrame(encoded_labels, columns=label_columns)\n",
    "\n",
    "# # Drop original label column and concatenate encoded labels\n",
    "# df = df.drop(columns=['label'])\n",
    "# df = pd.concat([df, df_encoded], axis=1)\n"
   ]
  },
  {
   "cell_type": "code",
   "execution_count": 19,
   "metadata": {},
   "outputs": [],
   "source": [
    "# print(df.head())  # Display first few rows"
   ]
  },
  {
   "cell_type": "markdown",
   "metadata": {},
   "source": [
    "Label Encoding"
   ]
  },
  {
   "cell_type": "code",
   "execution_count": 12,
   "metadata": {},
   "outputs": [],
   "source": [
    "from sklearn.model_selection import train_test_split\n",
    "\n",
    "# Features (X) and Labels (y)\n",
    "# num_classes = len(set(labels))\n",
    "# X = df.drop(columns=[f\"label_{i}\" for i in range(num_classes)])  # Feature matrix\n",
    "# y = df[[f\"label_{i}\" for i in range(num_classes)]]  # One-hot encoded labels\n",
    "\n",
    "X=df.drop(columns=['label'])\n",
    "y=df['label']\n",
    "\n",
    "from sklearn.preprocessing import LabelEncoder\n",
    "\n",
    "label_encoder = LabelEncoder()\n",
    "y_encoded = label_encoder.fit_transform(y)  # y contains names of persons\n"
   ]
  },
  {
   "cell_type": "markdown",
   "metadata": {},
   "source": [
    "Applying Standard Scaling"
   ]
  },
  {
   "cell_type": "code",
   "execution_count": 13,
   "metadata": {},
   "outputs": [],
   "source": [
    "from sklearn.preprocessing import StandardScaler\n",
    "\n",
    "scaler = StandardScaler()\n",
    "X_normalized = scaler.fit_transform(X)  # X is your feature matrix"
   ]
  },
  {
   "cell_type": "markdown",
   "metadata": {},
   "source": [
    "Applying PCA to reduce dimensionality"
   ]
  },
  {
   "cell_type": "code",
   "execution_count": 14,
   "metadata": {},
   "outputs": [],
   "source": [
    "from sklearn.decomposition import PCA\n",
    "\n",
    "pca = PCA(n_components=100)  # Adjust based on variance plot\n",
    "X_pca = pca.fit_transform(X_normalized)"
   ]
  },
  {
   "cell_type": "code",
   "execution_count": 24,
   "metadata": {},
   "outputs": [
    {
     "name": "stdout",
     "output_type": "stream",
     "text": [
      "Number of selected components: 2112\n"
     ]
    }
   ],
   "source": [
    "pca = PCA(n_components=0.95)  # Retains 95% of the variance\n",
    "X_pca = pca.fit_transform(X_normalized)\n",
    "\n",
    "print(\"Number of selected components:\", pca.n_components_)\n"
   ]
  },
  {
   "cell_type": "markdown",
   "metadata": {},
   "source": [
    "Train-Test Split"
   ]
  },
  {
   "cell_type": "code",
   "execution_count": 16,
   "metadata": {},
   "outputs": [
    {
     "name": "stdout",
     "output_type": "stream",
     "text": [
      "Training set size: (10840, 100), Test set size: (2710, 100)\n"
     ]
    }
   ],
   "source": [
    "from sklearn.model_selection import train_test_split\n",
    "X_train, X_test, y_train, y_test = train_test_split(X_pca, y_encoded, test_size=0.2, random_state=42)\n",
    "\n",
    "print(f\"Training set size: {X_train.shape}, Test set size: {X_test.shape}\")\n"
   ]
  },
  {
   "cell_type": "markdown",
   "metadata": {},
   "source": [
    "ANN"
   ]
  },
  {
   "cell_type": "code",
   "execution_count": 36,
   "metadata": {},
   "outputs": [
    {
     "name": "stdout",
     "output_type": "stream",
     "text": [
      "Epoch [1/50], Loss: 1.6057, Train Accuracy: 58.69%, Validation Accuracy: 51.48%\n",
      "Epoch [2/50], Loss: 1.1495, Train Accuracy: 69.77%, Validation Accuracy: 59.56%\n",
      "Epoch [3/50], Loss: 0.9655, Train Accuracy: 73.63%, Validation Accuracy: 62.29%\n",
      "Epoch [4/50], Loss: 0.8447, Train Accuracy: 76.45%, Validation Accuracy: 64.13%\n",
      "Epoch [5/50], Loss: 0.7715, Train Accuracy: 78.13%, Validation Accuracy: 64.06%\n",
      "Epoch [6/50], Loss: 0.7248, Train Accuracy: 79.57%, Validation Accuracy: 64.10%\n",
      "Epoch [7/50], Loss: 0.6855, Train Accuracy: 80.65%, Validation Accuracy: 63.87%\n",
      "Epoch [8/50], Loss: 0.6580, Train Accuracy: 81.94%, Validation Accuracy: 64.50%\n",
      "Epoch [9/50], Loss: 0.6252, Train Accuracy: 83.19%, Validation Accuracy: 64.80%\n",
      "Epoch [10/50], Loss: 0.5972, Train Accuracy: 83.92%, Validation Accuracy: 64.43%\n",
      "Epoch [11/50], Loss: 0.5549, Train Accuracy: 84.74%, Validation Accuracy: 64.43%\n",
      "Epoch [12/50], Loss: 0.5303, Train Accuracy: 85.52%, Validation Accuracy: 64.10%\n",
      "Epoch [13/50], Loss: 0.4970, Train Accuracy: 85.99%, Validation Accuracy: 63.80%\n",
      "Epoch [14/50], Loss: 0.4615, Train Accuracy: 86.40%, Validation Accuracy: 63.39%\n",
      "Epoch [15/50], Loss: 0.4324, Train Accuracy: 87.37%, Validation Accuracy: 63.58%\n",
      "Epoch [16/50], Loss: 0.4158, Train Accuracy: 87.81%, Validation Accuracy: 63.32%\n",
      "Epoch [17/50], Loss: 0.4082, Train Accuracy: 88.36%, Validation Accuracy: 63.43%\n",
      "Epoch [18/50], Loss: 0.3715, Train Accuracy: 88.80%, Validation Accuracy: 63.47%\n",
      "Epoch [19/50], Loss: 0.3630, Train Accuracy: 89.20%, Validation Accuracy: 63.14%\n",
      "Epoch [20/50], Loss: 0.3317, Train Accuracy: 89.52%, Validation Accuracy: 63.14%\n",
      "Epoch [21/50], Loss: 0.3002, Train Accuracy: 89.86%, Validation Accuracy: 62.62%\n",
      "Epoch [22/50], Loss: 0.2906, Train Accuracy: 90.36%, Validation Accuracy: 63.17%\n",
      "Epoch [23/50], Loss: 0.2505, Train Accuracy: 90.45%, Validation Accuracy: 62.66%\n",
      "Epoch [24/50], Loss: 0.2075, Train Accuracy: 90.78%, Validation Accuracy: 62.55%\n",
      "Epoch [25/50], Loss: 0.1600, Train Accuracy: 91.06%, Validation Accuracy: 62.32%\n",
      "Epoch [26/50], Loss: 0.1719, Train Accuracy: 91.49%, Validation Accuracy: 62.55%\n",
      "Epoch [27/50], Loss: 0.1502, Train Accuracy: 91.94%, Validation Accuracy: 62.25%\n",
      "Epoch [28/50], Loss: 0.1168, Train Accuracy: 91.66%, Validation Accuracy: 61.85%\n",
      "Epoch [29/50], Loss: 0.1554, Train Accuracy: 92.35%, Validation Accuracy: 62.32%\n",
      "Epoch [30/50], Loss: 0.0975, Train Accuracy: 92.24%, Validation Accuracy: 62.25%\n",
      "Epoch [31/50], Loss: 0.1604, Train Accuracy: 93.67%, Validation Accuracy: 63.10%\n",
      "Epoch [32/50], Loss: 0.0977, Train Accuracy: 94.09%, Validation Accuracy: 62.99%\n",
      "Epoch [33/50], Loss: 0.1145, Train Accuracy: 93.92%, Validation Accuracy: 62.88%\n",
      "Epoch [34/50], Loss: 0.1716, Train Accuracy: 93.92%, Validation Accuracy: 63.03%\n",
      "Epoch [35/50], Loss: 0.2251, Train Accuracy: 93.99%, Validation Accuracy: 62.84%\n",
      "Epoch [36/50], Loss: 0.0699, Train Accuracy: 93.70%, Validation Accuracy: 62.58%\n",
      "Epoch [37/50], Loss: 0.0941, Train Accuracy: 95.26%, Validation Accuracy: 63.14%\n",
      "Epoch [38/50], Loss: 0.1246, Train Accuracy: 95.12%, Validation Accuracy: 62.62%\n",
      "Epoch [39/50], Loss: 0.0731, Train Accuracy: 95.25%, Validation Accuracy: 62.58%\n",
      "Epoch [40/50], Loss: 0.0405, Train Accuracy: 95.42%, Validation Accuracy: 62.66%\n",
      "Epoch [41/50], Loss: 0.0942, Train Accuracy: 95.38%, Validation Accuracy: 62.92%\n",
      "Epoch [42/50], Loss: 0.1090, Train Accuracy: 94.89%, Validation Accuracy: 62.40%\n",
      "Epoch [43/50], Loss: 0.0737, Train Accuracy: 95.67%, Validation Accuracy: 63.06%\n",
      "Epoch [44/50], Loss: 0.0333, Train Accuracy: 95.97%, Validation Accuracy: 61.99%\n",
      "Epoch [45/50], Loss: 0.1551, Train Accuracy: 96.11%, Validation Accuracy: 63.03%\n",
      "Epoch [46/50], Loss: 0.0309, Train Accuracy: 96.76%, Validation Accuracy: 63.06%\n",
      "Epoch [47/50], Loss: 0.1134, Train Accuracy: 96.85%, Validation Accuracy: 63.25%\n",
      "Epoch [48/50], Loss: 0.0584, Train Accuracy: 96.09%, Validation Accuracy: 62.18%\n",
      "Epoch [49/50], Loss: 0.0567, Train Accuracy: 95.42%, Validation Accuracy: 62.25%\n",
      "Epoch [50/50], Loss: 0.0412, Train Accuracy: 96.03%, Validation Accuracy: 62.29%\n",
      "Final Test Accuracy: 62.29%\n",
      "Model saved as ann_model.pth\n"
     ]
    },
    {
     "data": {
      "image/png": "[encoded data removed]",
      "text/plain": [
       "<Figure size 1000x600 with 1 Axes>"
      ]
     },
     "metadata": {},
     "output_type": "display_data"
    }
   ],
   "source": [
    "import torch.optim as optim\n",
    "from sklearn.metrics import accuracy_score\n",
    "\n",
    "class ANNModel(nn.Module):\n",
    "    def __init__(self, input_size, hidden_size, num_classes):\n",
    "        super(ANNModel, self).__init__()\n",
    "        self.fc1 = nn.Linear(input_size, hidden_size)\n",
    "        self.relu = nn.ReLU()\n",
    "        self.fc2 = nn.Linear(hidden_size, hidden_size)\n",
    "        self.relu2 = nn.ReLU()\n",
    "        self.fc3 = nn.Linear(hidden_size, num_classes)\n",
    "    \n",
    "    def forward(self, x):\n",
    "        x = self.fc1(x)\n",
    "        x = self.relu(x)\n",
    "        x = self.fc2(x)\n",
    "        x = self.relu2(x)\n",
    "        x = self.fc3(x)\n",
    "        return x\n",
    "\n",
    "# Model parameters\n",
    "input_size = X_train.shape[1]  # Number of features\n",
    "hidden_size = 64  # Number of neurons in hidden layers\n",
    "num_classes = len(label_encoder.classes_)  # Number of unique labels\n",
    "\n",
    "# Initialize the model\n",
    "model = ANNModel(input_size, hidden_size, num_classes)\n",
    "\n",
    "# ============================\n",
    "# 3. Train the Model\n",
    "# ============================\n",
    "# Loss function and optimizer\n",
    "criterion = nn.CrossEntropyLoss()\n",
    "optimizer = optim.Adam(model.parameters(), lr=0.001)\n",
    "\n",
    "# Training loop\n",
    "num_epochs = 50  \n",
    "batch_size = 32\n",
    "\n",
    "# Track accuracy\n",
    "train_accuracies = []\n",
    "val_accuracies = []\n",
    "\n",
    "for epoch in range(num_epochs):\n",
    "    model.train()\n",
    "    for i in range(0, len(X_train_tensor), batch_size):\n",
    "        # Get mini-batch\n",
    "        X_batch = X_train_tensor[i:i+batch_size]\n",
    "        y_batch = y_train_tensor[i:i+batch_size]\n",
    "\n",
    "        # Forward pass\n",
    "        outputs = model(X_batch)\n",
    "        loss = criterion(outputs, y_batch)\n",
    "\n",
    "        # Backward pass and optimization\n",
    "        optimizer.zero_grad()\n",
    "        loss.backward()\n",
    "        optimizer.step()\n",
    "\n",
    "    # Calculate training accuracy\n",
    "    model.eval()\n",
    "    with torch.no_grad():\n",
    "        # Training accuracy\n",
    "        train_outputs = model(X_train_tensor)\n",
    "        train_pred_classes = torch.argmax(train_outputs, axis=1)\n",
    "        train_accuracy = accuracy_score(y_train_tensor.numpy(), train_pred_classes.numpy())\n",
    "        train_accuracies.append(train_accuracy)\n",
    "\n",
    "        # Validation accuracy\n",
    "        val_outputs = model(X_test_tensor)\n",
    "        val_pred_classes = torch.argmax(val_outputs, axis=1)\n",
    "        val_accuracy = accuracy_score(y_test_tensor.numpy(), val_pred_classes.numpy())\n",
    "        val_accuracies.append(val_accuracy)\n",
    "\n",
    "    # Print loss and accuracies for every epoch\n",
    "    print(f\"Epoch [{epoch+1}/{num_epochs}], Loss: {loss.item():.4f}, \"\n",
    "          f\"Train Accuracy: {train_accuracy * 100:.2f}%, \"\n",
    "          f\"Validation Accuracy: {val_accuracy * 100:.2f}%\")\n",
    "\n",
    "# ============================\n",
    "# 4. Evaluate the Model\n",
    "# ============================\n",
    "model.eval()\n",
    "with torch.no_grad():\n",
    "    y_pred = model(X_test_tensor)\n",
    "    y_pred_classes = torch.argmax(y_pred, axis=1).numpy()\n",
    "    accuracy = accuracy_score(y_test, y_pred_classes)\n",
    "    print(f\"Final Test Accuracy: {accuracy * 100:.2f}%\")\n",
    "\n",
    "# ============================\n",
    "# 5. Save the Model\n",
    "# ============================\n",
    "torch.save(model.state_dict(), \"ann_model.pth\")\n",
    "print(\"Model saved as ann_model.pth\")\n",
    "\n",
    "# ============================\n",
    "# 6. Plot Training and Validation Accuracy\n",
    "# ============================\n",
    "import matplotlib.pyplot as plt\n",
    "\n",
    "plt.figure(figsize=(10, 6))\n",
    "plt.plot(range(1, num_epochs + 1), train_accuracies, label='Train Accuracy')\n",
    "plt.plot(range(1, num_epochs + 1), val_accuracies, label='Validation Accuracy')\n",
    "plt.xlabel('Epoch')\n",
    "plt.ylabel('Accuracy')\n",
    "plt.title('Training and Validation Accuracy')\n",
    "plt.legend()\n",
    "plt.grid()\n",
    "plt.tight_layout()\n",
    "plt.show()"
   ]
  },
  {
   "cell_type": "markdown",
   "metadata": {},
   "source": [
    "Till Now best performance is by SVM-75 then Logistic Regression-65 then ANN-62"
   ]
  }
 ],
 "metadata": {
  "kernelspec": {
   "display_name": ".venv",
   "language": "python",
   "name": "python3"
  },
  "language_info": {
   "codemirror_mode": {
    "name": "ipython",
    "version": 3
   },
   "file_extension": ".py",
   "mimetype": "text/x-python",
   "name": "python",
   "nbconvert_exporter": "python",
   "pygments_lexer": "ipython3",
   "version": "3.11.9"
  }
 },
 "nbformat": 4,
 "nbformat_minor": 2
}
